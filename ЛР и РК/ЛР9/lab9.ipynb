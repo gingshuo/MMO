{
 "cells": [
  {
   "cell_type": "markdown",
   "metadata": {},
   "source": [
    "Способ 1. На основе CountVectorizer или TfidfVectorizer."
   ]
  },
  {
   "cell_type": "code",
   "execution_count": 1,
   "metadata": {},
   "outputs": [
    {
     "name": "stderr",
     "output_type": "stream",
     "text": [
      "c:\\Programs\\python\\bin\\lib\\site-packages\\sklearn\\datasets\\_base.py:1472: UserWarning: Retry downloading from url: https://ndownloader.figshare.com/files/5975967\n",
      "  warnings.warn(f\"Retry downloading from url: {remote.url}\")\n"
     ]
    },
    {
     "name": "stdout",
     "output_type": "stream",
     "text": [
      "CountVectorizer 准确率: 0.8511936339522547\n",
      "TfidfVectorizer 准确率: 0.8474801061007957\n"
     ]
    }
   ],
   "source": [
    "import numpy as np\n",
    "from sklearn.datasets import fetch_20newsgroups\n",
    "from sklearn.feature_extraction.text import CountVectorizer, TfidfVectorizer\n",
    "from sklearn.model_selection import train_test_split\n",
    "from sklearn.naive_bayes import MultinomialNB\n",
    "from sklearn.metrics import accuracy_score\n",
    "\n",
    "# 加载数据集\n",
    "newsgroups_data = fetch_20newsgroups(subset='all')\n",
    "X, y = newsgroups_data.data, newsgroups_data.target\n",
    "\n",
    "# 分割数据集\n",
    "X_train, X_test, y_train, y_test = train_test_split(X, y, test_size=0.2, random_state=42)\n",
    "\n",
    "# 使用 CountVectorizer\n",
    "count_vect = CountVectorizer()\n",
    "X_train_counts = count_vect.fit_transform(X_train)\n",
    "X_test_counts = count_vect.transform(X_test)\n",
    "\n",
    "# 训练模型\n",
    "clf_count = MultinomialNB()\n",
    "clf_count.fit(X_train_counts, y_train)\n",
    "\n",
    "# 预测和评估\n",
    "y_pred_count = clf_count.predict(X_test_counts)\n",
    "accuracy_count = accuracy_score(y_test, y_pred_count)\n",
    "print(f\"CountVectorizer 准确率: {accuracy_count}\")\n",
    "\n",
    "# 使用 TfidfVectorizer\n",
    "tfidf_vect = TfidfVectorizer()\n",
    "X_train_tfidf = tfidf_vect.fit_transform(X_train)\n",
    "X_test_tfidf = tfidf_vect.transform(X_test)\n",
    "\n",
    "# 训练模型\n",
    "clf_tfidf = MultinomialNB()\n",
    "clf_tfidf.fit(X_train_tfidf, y_train)\n",
    "\n",
    "# 预测和评估\n",
    "y_pred_tfidf = clf_tfidf.predict(X_test_tfidf)\n",
    "accuracy_tfidf = accuracy_score(y_test, y_pred_tfidf)\n",
    "print(f\"TfidfVectorizer 准确率: {accuracy_tfidf}\")\n"
   ]
  },
  {
   "cell_type": "markdown",
   "metadata": {},
   "source": [
    "Способ 2. На основе моделей Glove."
   ]
  },
  {
   "cell_type": "code",
   "execution_count": 22,
   "metadata": {},
   "outputs": [
    {
     "name": "stdout",
     "output_type": "stream",
     "text": [
      "Downloading GloVe model...\n",
      "Downloaded glove.6B.zip\n",
      "Extracting glove.6B.zip...\n",
      "Extracted GloVe model\n"
     ]
    }
   ],
   "source": [
    "import os\n",
    "import requests\n",
    "import numpy as np\n",
    "from sklearn.datasets import fetch_20newsgroups\n",
    "from sklearn.model_selection import train_test_split\n",
    "from sklearn.ensemble import RandomForestClassifier\n",
    "from sklearn.metrics import accuracy_score\n",
    "\n",
    "# 下载并解压 GloVe 模型\n",
    "def download_glove_model():\n",
    "    url = \"http://nlp.stanford.edu/data/glove.6B.zip\"\n",
    "    zip_filename = \"glove.6B.zip\"\n",
    "    glove_filename = \"glove.6B.300d.txt\"\n",
    "    if not os.path.exists(glove_filename):\n",
    "        if not os.path.exists(zip_filename):\n",
    "            print(f\"Downloading GloVe model...\")\n",
    "            response = requests.get(url, stream=True)\n",
    "            with open(zip_filename, 'wb') as f:\n",
    "                for chunk in response.iter_content(chunk_size=8192):\n",
    "                    if chunk:\n",
    "                        f.write(chunk)\n",
    "            print(f\"Downloaded {zip_filename}\")\n",
    "        \n",
    "        print(f\"Extracting {zip_filename}...\")\n",
    "        with zipfile.ZipFile(zip_filename, 'r') as zip_ref:\n",
    "            zip_ref.extractall()\n",
    "        print(f\"Extracted GloVe model\")\n",
    "\n",
    "# 加载预训练的 GloVe 词向量\n",
    "def load_glove_model(glove_file):\n",
    "    glove_model = {}\n",
    "    with open(glove_file, 'r', encoding='utf-8') as f:\n",
    "        for line in f:\n",
    "            split_line = line.split()\n",
    "            word = split_line[0]\n",
    "            embedding = np.array(split_line[1:], dtype=np.float64)\n",
    "            glove_model[word] = embedding\n",
    "    return glove_model\n",
    "\n",
    "# 检查并下载 GloVe 模型\n",
    "download_glove_model()\n",
    "\n",
    "# 请确保您将路径更改为 GloVe 模型文件的实际路径\n",
    "glove_model = load_glove_model('glove.6B.300d.txt')\n",
    "\n",
    "# 其余代码与之前相同...\n"
   ]
  },
  {
   "cell_type": "code",
   "execution_count": 23,
   "metadata": {},
   "outputs": [
    {
     "name": "stdout",
     "output_type": "stream",
     "text": [
      "GloVe 准确率: 0.5381962864721486\n"
     ]
    }
   ],
   "source": [
    "import os\n",
    "import numpy as np\n",
    "from sklearn.datasets import fetch_20newsgroups\n",
    "from sklearn.model_selection import train_test_split\n",
    "from sklearn.ensemble import RandomForestClassifier\n",
    "from sklearn.metrics import accuracy_score\n",
    "\n",
    "# 加载预训练的 GloVe 词向量\n",
    "def load_glove_model(glove_file):\n",
    "    glove_model = {}\n",
    "    with open(glove_file, 'r', encoding='utf-8') as f:\n",
    "        for line in f:\n",
    "            split_line = line.split()\n",
    "            word = split_line[0]\n",
    "            embedding = np.array(split_line[1:], dtype=np.float64)\n",
    "            glove_model[word] = embedding\n",
    "    return glove_model\n",
    "\n",
    "# 请确保你已经下载并解压了 GloVe 模型\n",
    "glove_model = load_glove_model('glove.6B.300d.txt')\n",
    "\n",
    "# 加载数据集\n",
    "newsgroups_data = fetch_20newsgroups(subset='all')\n",
    "X, y = newsgroups_data.data, newsgroups_data.target\n",
    "\n",
    "# 分割数据集\n",
    "X_train, X_test, y_train, y_test = train_test_split(X, y, test_size=0.2, random_state=42)\n",
    "\n",
    "# 将文本转换为 GloVe 向量\n",
    "def text_to_glove_vector(text, model):\n",
    "    words = text.split()\n",
    "    word_vecs = [model[word] for word in words if word in model]\n",
    "    if len(word_vecs) == 0:\n",
    "        return np.zeros(300)\n",
    "    else:\n",
    "        return np.mean(word_vecs, axis=0)\n",
    "\n",
    "# 转换训练和测试数据\n",
    "X_train_vec = np.array([text_to_glove_vector(text, glove_model) for text in X_train])\n",
    "X_test_vec = np.array([text_to_glove_vector(text, glove_model) for text in X_test])\n",
    "\n",
    "# 训练模型\n",
    "clf_glove = RandomForestClassifier(n_estimators=100, random_state=42)\n",
    "clf_glove.fit(X_train_vec, y_train)\n",
    "\n",
    "# 预测和评估\n",
    "y_pred_glove = clf_glove.predict(X_test_vec)\n",
    "accuracy_glove = accuracy_score(y_test, y_pred_glove)\n",
    "print(f\"GloVe 准确率: {accuracy_glove}\")\n",
    "\n"
   ]
  },
  {
   "cell_type": "markdown",
   "metadata": {},
   "source": [
    "Сравните качество полученных моделей."
   ]
  },
  {
   "cell_type": "code",
   "execution_count": 24,
   "metadata": {},
   "outputs": [
    {
     "name": "stdout",
     "output_type": "stream",
     "text": [
      "CountVectorizer 准确率: 0.8511936339522547\n",
      "TfidfVectorizer 准确率: 0.8474801061007957\n",
      "GloVe 准确率: 0.5381962864721486\n"
     ]
    }
   ],
   "source": [
    "print(f\"CountVectorizer 准确率: {accuracy_count}\")\n",
    "print(f\"TfidfVectorizer 准确率: {accuracy_tfidf}\")\n",
    "print(f\"GloVe 准确率: {accuracy_glove}\")\n"
   ]
  }
 ],
 "metadata": {
  "kernelspec": {
   "display_name": "Python 3",
   "language": "python",
   "name": "python3"
  },
  "language_info": {
   "name": "python",
   "version": "3.10.11"
  }
 },
 "nbformat": 4,
 "nbformat_minor": 2
}
