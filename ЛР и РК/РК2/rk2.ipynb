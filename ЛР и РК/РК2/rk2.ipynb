{
 "cells": [
  {
   "cell_type": "markdown",
   "metadata": {},
   "source": [
    "Необходимо решить задачу классификации текстов на основе любого выбранного Вами датасета (кроме примера, который рассматривался в лекции). Классификация может быть бинарной или многоклассовой. Целевой признак из выбранного Вами датасета может иметь любой физический смысл, примером является задача анализа тональности текста.\n",
    "\n",
    "Необходимо сформировать два варианта векторизации признаков - на основе CountVectorizer и на основе TfidfVectorizer.\n",
    "\n",
    "В качестве классификаторов необходимо использовать два классификатора по варианту для Вашей группы:"
   ]
  },
  {
   "cell_type": "markdown",
   "metadata": {},
   "source": [
    "ИУ5-22М, ИУ5И-22М\tRandomForestClassifier\tLogisticRegression"
   ]
  },
  {
   "cell_type": "markdown",
   "metadata": {},
   "source": [
    "Для каждого метода необходимо оценить качество классификации. Сделайте вывод о том, какой вариант векторизации признаков в паре с каким классификатором показал лучшее качество."
   ]
  },
  {
   "cell_type": "code",
   "execution_count": 1,
   "metadata": {},
   "outputs": [
    {
     "name": "stdout",
     "output_type": "stream",
     "text": [
      "RandomForestClassifier with CountVectorizer\n",
      "              precision    recall  f1-score   support\n",
      "\n",
      "           0       0.88      0.92      0.90       224\n",
      "           1       0.82      0.98      0.89       297\n",
      "           2       0.95      0.90      0.93       307\n",
      "           3       0.93      0.68      0.78       189\n",
      "\n",
      "    accuracy                           0.89      1017\n",
      "   macro avg       0.90      0.87      0.88      1017\n",
      "weighted avg       0.89      0.89      0.88      1017\n",
      "\n",
      "Accuracy: 0.8869223205506391\n",
      "LogisticRegression with CountVectorizer\n",
      "              precision    recall  f1-score   support\n",
      "\n",
      "           0       0.91      0.94      0.92       224\n",
      "           1       0.96      0.98      0.97       297\n",
      "           2       0.96      0.95      0.95       307\n",
      "           3       0.91      0.86      0.88       189\n",
      "\n",
      "    accuracy                           0.94      1017\n",
      "   macro avg       0.93      0.93      0.93      1017\n",
      "weighted avg       0.94      0.94      0.94      1017\n",
      "\n",
      "Accuracy: 0.9380530973451328\n",
      "RandomForestClassifier with TfidfVectorizer\n",
      "              precision    recall  f1-score   support\n",
      "\n",
      "           0       0.85      0.93      0.89       224\n",
      "           1       0.85      0.98      0.91       297\n",
      "           2       0.93      0.90      0.92       307\n",
      "           3       0.93      0.65      0.76       189\n",
      "\n",
      "    accuracy                           0.88      1017\n",
      "   macro avg       0.89      0.86      0.87      1017\n",
      "weighted avg       0.89      0.88      0.88      1017\n",
      "\n",
      "Accuracy: 0.8829891838741396\n",
      "LogisticRegression with TfidfVectorizer\n",
      "              precision    recall  f1-score   support\n",
      "\n",
      "           0       0.92      0.95      0.93       224\n",
      "           1       0.90      0.99      0.94       297\n",
      "           2       0.98      0.94      0.96       307\n",
      "           3       0.93      0.80      0.86       189\n",
      "\n",
      "    accuracy                           0.93      1017\n",
      "   macro avg       0.93      0.92      0.92      1017\n",
      "weighted avg       0.93      0.93      0.93      1017\n",
      "\n",
      "Accuracy: 0.9311701081612586\n"
     ]
    }
   ],
   "source": [
    "from sklearn.datasets import fetch_20newsgroups\n",
    "from sklearn.model_selection import train_test_split\n",
    "from sklearn.feature_extraction.text import CountVectorizer, TfidfVectorizer\n",
    "from sklearn.ensemble import RandomForestClassifier\n",
    "from sklearn.linear_model import LogisticRegression\n",
    "from sklearn.metrics import classification_report, accuracy_score\n",
    "\n",
    "# 加载数据\n",
    "categories = ['alt.atheism', 'comp.graphics', 'sci.space', 'talk.religion.misc']\n",
    "newsgroups = fetch_20newsgroups(subset='all', categories=categories)\n",
    "\n",
    "# 划分训练集和测试集\n",
    "X_train, X_test, y_train, y_test = train_test_split(newsgroups.data, newsgroups.target, test_size=0.3, random_state=42)\n",
    "\n",
    "# CountVectorizer\n",
    "count_vectorizer = CountVectorizer()\n",
    "X_train_counts = count_vectorizer.fit_transform(X_train)\n",
    "X_test_counts = count_vectorizer.transform(X_test)\n",
    "\n",
    "# TfidfVectorizer\n",
    "tfidf_vectorizer = TfidfVectorizer()\n",
    "X_train_tfidf = tfidf_vectorizer.fit_transform(X_train)\n",
    "X_test_tfidf = tfidf_vectorizer.transform(X_test)\n",
    "\n",
    "# 使用 CountVectorizer 特征的分类器\n",
    "\n",
    "# 随机森林分类器\n",
    "rf_classifier = RandomForestClassifier(random_state=42)\n",
    "rf_classifier.fit(X_train_counts, y_train)\n",
    "y_pred_rf_counts = rf_classifier.predict(X_test_counts)\n",
    "print(\"RandomForestClassifier with CountVectorizer\")\n",
    "print(classification_report(y_test, y_pred_rf_counts))\n",
    "print(\"Accuracy:\", accuracy_score(y_test, y_pred_rf_counts))\n",
    "\n",
    "# 逻辑回归分类器\n",
    "lr_classifier = LogisticRegression(max_iter=1000, random_state=42)\n",
    "lr_classifier.fit(X_train_counts, y_train)\n",
    "y_pred_lr_counts = lr_classifier.predict(X_test_counts)\n",
    "print(\"LogisticRegression with CountVectorizer\")\n",
    "print(classification_report(y_test, y_pred_lr_counts))\n",
    "print(\"Accuracy:\", accuracy_score(y_test, y_pred_lr_counts))\n",
    "\n",
    "# 使用 TfidfVectorizer 特征的分类器\n",
    "\n",
    "# 随机森林分类器\n",
    "rf_classifier.fit(X_train_tfidf, y_train)\n",
    "y_pred_rf_tfidf = rf_classifier.predict(X_test_tfidf)\n",
    "print(\"RandomForestClassifier with TfidfVectorizer\")\n",
    "print(classification_report(y_test, y_pred_rf_tfidf))\n",
    "print(\"Accuracy:\", accuracy_score(y_test, y_pred_rf_tfidf))\n",
    "\n",
    "# 逻辑回归分类器\n",
    "lr_classifier.fit(X_train_tfidf, y_train)\n",
    "y_pred_lr_tfidf = lr_classifier.predict(X_test_tfidf)\n",
    "print(\"LogisticRegression with TfidfVectorizer\")\n",
    "print(classification_report(y_test, y_pred_lr_tfidf))\n",
    "print(\"Accuracy:\", accuracy_score(y_test, y_pred_lr_tfidf))\n"
   ]
  }
 ],
 "metadata": {
  "kernelspec": {
   "display_name": "Python 3",
   "language": "python",
   "name": "python3"
  },
  "language_info": {
   "codemirror_mode": {
    "name": "ipython",
    "version": 3
   },
   "file_extension": ".py",
   "mimetype": "text/x-python",
   "name": "python",
   "nbconvert_exporter": "python",
   "pygments_lexer": "ipython3",
   "version": "3.10.11"
  }
 },
 "nbformat": 4,
 "nbformat_minor": 2
}
